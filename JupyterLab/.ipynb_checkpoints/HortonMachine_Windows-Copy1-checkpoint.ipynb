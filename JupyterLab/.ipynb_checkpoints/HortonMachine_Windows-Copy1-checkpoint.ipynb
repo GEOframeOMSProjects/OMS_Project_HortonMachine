{
 "cells": [
  {
   "cell_type": "code",
   "execution_count": 11,
   "metadata": {},
   "outputs": [
    {
     "name": "stdout",
     "output_type": "stream",
     "text": [
      "Docker version 18.09.0, build 4d60db4\n"
     ]
    }
   ],
   "source": [
    "!docker --version"
   ]
  },
  {
   "cell_type": "markdown",
   "metadata": {},
   "source": [
    "# HortonMachine"
   ]
  },
  {
   "cell_type": "code",
   "execution_count": 11,
   "metadata": {},
   "outputs": [
    {
     "name": "stdout",
     "output_type": "stream",
     "text": [
      "build/ folder exists: project already built.\n",
      "Reading coverage: DEM_Meledrio_10m_32632.tif\n",
      "Finished.\n",
      "Initialize boundaries...\n",
      "Initialize internal pointers...\n",
      "Set positive slope directions...\n",
      "Number of pits to resolve: 3847\n",
      "Main cycle...\n",
      "Approximate estimate of work done:\n",
      "0%\n",
      "10%\n",
      "20%\n",
      "30%\n",
      "40%\n",
      "50%\n",
      "60%\n",
      "70%\n",
      "80%\n",
      "90%\n",
      "OmsPitfiller finished...\n",
      "Writing coverage: DEM_pitfiller.asc\n",
      "Finished.\n"
     ]
    },
    {
     "name": "stderr",
     "output_type": "stream",
     "text": [
      "Dec 21, 2018 10:47:22 AM java.util.prefs.FileSystemPreferences$1 run\n",
      "INFO: Created user preferences directory.\n",
      "\n",
      "*********************************\n",
      "***     END OF SIMULATION     ***\n",
      "*********************************\n",
      "\n"
     ]
    }
   ],
   "source": [
    "!docker run --rm -i -v \"C:/Users/Niccolo/OMS/OMS_WS2019_HortonMachine/:/work\" omslab/oms simulation/01_Pitfiller.sim"
   ]
  },
  {
   "cell_type": "code",
   "execution_count": 3,
   "metadata": {},
   "outputs": [
    {
     "name": "stdout",
     "output_type": "stream",
     "text": [
      "build/ folder exists: project already built.\n",
      "Reading coverage: DEM_pitfiller.asc\n",
      "Finished.\n",
      "Initialize boundaries...\n",
      "Initialize internal pointers...\n",
      "Set positive slope directions...\n",
      "Now resolve flats...\n",
      "Writing coverage: flow_dir.asc\n",
      "Finished.\n"
     ]
    },
    {
     "name": "stderr",
     "output_type": "stream",
     "text": [
      "Dec 21, 2018 10:37:01 AM java.util.prefs.FileSystemPreferences$1 run\n",
      "INFO: Created user preferences directory.\n",
      "\n",
      "*********************************\n",
      "***     END OF SIMULATION     ***\n",
      "*********************************\n",
      "\n"
     ]
    }
   ],
   "source": [
    "!docker run --rm -i -v \"C:/Users/Niccolo/OMS/OMS_WS2019_HortonMachine/:/work\" omslab/oms simulation/02_FlowDirection.sim"
   ]
  },
  {
   "cell_type": "code",
   "execution_count": 4,
   "metadata": {},
   "outputs": [
    {
     "name": "stdout",
     "output_type": "stream",
     "text": [
      "build/ folder exists: project already built.\n",
      "Reading coverage: flow_dir.asc\n",
      "Reading coverage: DEM_pitfiller.asc\n",
      "Finished.\n",
      "Finished.\n",
      "Sorting...\n",
      "...\n",
      "Finished.\n",
      "Inizializing new matrixes...\n",
      "Processing with OrlandiniD8 LAD...\n",
      "0%...\n",
      "10%...\n",
      "20%...\n",
      "30%...\n",
      "40%...\n",
      "50%...\n",
      "60%...\n",
      "70%...\n",
      "80%...\n",
      "90%...\n",
      "100%...\n",
      "Finished.\n",
      "Writing coverage: drain_dir.asc\n",
      "Writing coverage: tca.asc\n",
      "Finished.\n",
      "Finished.\n"
     ]
    },
    {
     "name": "stderr",
     "output_type": "stream",
     "text": [
      "Dec 21, 2018 10:38:26 AM java.util.prefs.FileSystemPreferences$1 run\n",
      "INFO: Created user preferences directory.\n",
      "\n",
      "*********************************\n",
      "***     END OF SIMULATION     ***\n",
      "*********************************\n",
      "\n"
     ]
    }
   ],
   "source": [
    "!docker run --rm -i -v \"C:/Users/Niccolo/OMS/OMS_WS2019_HortonMachine/:/work\" omslab/oms simulation/03_DrainDir.sim"
   ]
  },
  {
   "cell_type": "code",
   "execution_count": 5,
   "metadata": {},
   "outputs": [
    {
     "name": "stdout",
     "output_type": "stream",
     "text": [
      "build/ folder exists: project already built.\n",
      "Reading coverage: drain_dir.asc\n",
      "Finished.\n",
      "working on markoutlets\n",
      "0%...\n",
      "10%...\n",
      "20%...\n",
      "30%...\n",
      "40%...\n",
      "50%...\n",
      "60%...\n",
      "70%...\n",
      "80%...\n",
      "90%...\n",
      "100%...\n",
      "Finished.\n",
      "Writing coverage: mark_outlet.asc\n",
      "Finished.\n"
     ]
    },
    {
     "name": "stderr",
     "output_type": "stream",
     "text": [
      "Dec 21, 2018 10:38:51 AM java.util.prefs.FileSystemPreferences$1 run\n",
      "INFO: Created user preferences directory.\n",
      "\n",
      "*********************************\n",
      "***     END OF SIMULATION     ***\n",
      "*********************************\n",
      "\n"
     ]
    }
   ],
   "source": [
    "!docker run --rm -i -v \"C:/Users/Niccolo/OMS/OMS_WS2019_HortonMachine/:/work\" omslab/oms simulation/04_MarkOutlet.sim"
   ]
  },
  {
   "cell_type": "code",
   "execution_count": 6,
   "metadata": {},
   "outputs": [
    {
     "name": "stdout",
     "output_type": "stream",
     "text": [
      "build/ folder exists: project already built.\n",
      "Reading coverage: DEM_pitfiller.asc\n",
      "Finished.\n",
      "Calculating curvatures...\n",
      "0%...\n",
      "10%...\n",
      "20%...\n",
      "30%...\n",
      "40%...\n",
      "50%...\n",
      "60%...\n",
      "70%...\n",
      "80%...\n",
      "90%...\n",
      "100%...\n",
      "Finished.\n",
      "Writing coverage: c_longitudinal.asc\n",
      "Writing coverage: c_tangential.asc\n",
      "Writing coverage: c_planar.asc\n",
      "Finished.\n",
      "Finished.\n",
      "Finished.\n"
     ]
    },
    {
     "name": "stderr",
     "output_type": "stream",
     "text": [
      "Dec 21, 2018 10:40:30 AM java.util.prefs.FileSystemPreferences$1 run\n",
      "INFO: Created user preferences directory.\n",
      "\n",
      "*********************************\n",
      "***     END OF SIMULATION     ***\n",
      "*********************************\n",
      "\n"
     ]
    }
   ],
   "source": [
    "!docker run --rm -i -v \"C:/Users/Niccolo/OMS/OMS_WS2019_HortonMachine/:/work\" omslab/oms simulation/05_Curvature.sim"
   ]
  },
  {
   "cell_type": "code",
   "execution_count": 6,
   "metadata": {},
   "outputs": [
    {
     "name": "stdout",
     "output_type": "stream",
     "text": [
      "build/ folder exists: project already built.\n",
      "Reading coverage: DEM_pitfiller.asc\n",
      "Finished.\n",
      "Calculating aspect...\n",
      "0%...\n",
      "10%...\n",
      "20%...\n",
      "30%...\n",
      "40%...\n",
      "50%...\n",
      "60%...\n",
      "70%...\n",
      "80%...\n",
      "90%...\n",
      "Finished.\n",
      "Writing coverage: aspectradiants.asc\n",
      "Finished.\n"
     ]
    },
    {
     "name": "stderr",
     "output_type": "stream",
     "text": [
      "Dec 20, 2018 10:58:14 AM java.util.prefs.FileSystemPreferences$1 run\n",
      "INFO: Created user preferences directory.\n",
      "\n",
      "*********************************\n",
      "***     END OF SIMULATION     ***\n",
      "*********************************\n",
      "\n"
     ]
    }
   ],
   "source": [
    "!docker run --rm -i -v \"C:/Users/Niccolo/OMS/OMS_WS2019_HortonMachine/:/work\" omslab/oms simulation/06_Aspect.sim"
   ]
  },
  {
   "cell_type": "code",
   "execution_count": 7,
   "metadata": {},
   "outputs": [
    {
     "name": "stdout",
     "output_type": "stream",
     "text": [
      "build/ folder exists: project already built.\n",
      "Reading coverage: DEM_pitfiller.asc\n",
      "Finished.\n",
      "Using finite differences\n",
      "Processing gradient...\n",
      "0%...\n",
      "10%...\n",
      "20%...\n",
      "30%...\n",
      "40%...\n",
      "50%...\n",
      "60%...\n",
      "70%...\n",
      "80%...\n",
      "90%...\n",
      "Finished.\n",
      "Writing coverage: gradient.asc\n",
      "Finished.\n"
     ]
    },
    {
     "name": "stderr",
     "output_type": "stream",
     "text": [
      "Dec 21, 2018 10:42:41 AM java.util.prefs.FileSystemPreferences$1 run\n",
      "INFO: Created user preferences directory.\n",
      "\n",
      "*********************************\n",
      "***     END OF SIMULATION     ***\n",
      "*********************************\n",
      "\n"
     ]
    }
   ],
   "source": [
    "!docker run --rm -i -v \"C:/Users/Niccolo/OMS/OMS_WS2019_HortonMachine/:/work\" omslab/oms simulation/07_Gradient.sim"
   ]
  },
  {
   "cell_type": "code",
   "execution_count": 9,
   "metadata": {},
   "outputs": [
    {
     "name": "stdout",
     "output_type": "stream",
     "text": [
      "build/ folder exists: project already built.\n",
      "Reading coverage: DEM_pitfiller.asc\n",
      "Reading coverage: flow_dir.asc\n",
      "Finished.\n",
      "Finished.\n",
      "Calculating slope...\n",
      "0%...\n",
      "10%...\n",
      "20%...\n",
      "30%...\n",
      "40%...\n",
      "50%...\n",
      "60%...\n",
      "70%...\n",
      "80%...\n",
      "90%...\n",
      "100%...\n",
      "Finished.\n",
      "Writing coverage: slopefalse.asc\n",
      "Finished.\n"
     ]
    },
    {
     "name": "stderr",
     "output_type": "stream",
     "text": [
      "Dec 21, 2018 10:44:28 AM java.util.prefs.FileSystemPreferences$1 run\n",
      "INFO: Created user preferences directory.\n",
      "\n",
      "*********************************\n",
      "***     END OF SIMULATION     ***\n",
      "*********************************\n",
      "\n"
     ]
    }
   ],
   "source": [
    "!docker run --rm -i -v \"C:/Users/Niccolo/OMS/OMS_WS2019_HortonMachine/:/work\" omslab/oms simulation/08_Slope.sim"
   ]
  },
  {
   "cell_type": "code",
   "execution_count": 10,
   "metadata": {},
   "outputs": [
    {
     "name": "stdout",
     "output_type": "stream",
     "text": [
      "build/ folder exists: project already built.\n",
      "Reading coverage: c_longitudinal.asc\n",
      "Reading coverage: c_tangential.asc\n",
      "Finished.\n",
      "Finished.\n",
      "Working on tc9...\n",
      "0%...\n",
      "10%...\n",
      "20%...\n",
      "30%...\n",
      "40%...\n",
      "50%...\n",
      "60%...\n",
      "70%...\n",
      "80%...\n",
      "90%...\n",
      "100%...\n",
      "Finished.\n",
      "Working on tc3...\n",
      "0%...\n",
      "10%...\n",
      "20%...\n",
      "30%...\n",
      "40%...\n",
      "50%...\n",
      "60%...\n",
      "70%...\n",
      "80%...\n",
      "90%...\n",
      "100%...\n",
      "Finished.\n",
      "Writing coverage: tc9.asc\n",
      "Writing coverage: tc3.asc\n",
      "Finished.\n",
      "Finished.\n"
     ]
    },
    {
     "name": "stderr",
     "output_type": "stream",
     "text": [
      "Dec 21, 2018 10:45:26 AM java.util.prefs.FileSystemPreferences$1 run\n",
      "INFO: Created user preferences directory.\n",
      "\n",
      "*********************************\n",
      "***     END OF SIMULATION     ***\n",
      "*********************************\n",
      "\n"
     ]
    }
   ],
   "source": [
    "!docker run --rm -i -v \"C:/Users/Niccolo/OMS/OMS_WS2019_HortonMachine/:/work\" omslab/oms simulation/09_Tc.sim"
   ]
  },
  {
   "cell_type": "code",
   "execution_count": 12,
   "metadata": {},
   "outputs": [
    {
     "name": "stdout",
     "output_type": "stream",
     "text": [
      "build/ folder exists: project already built.\n",
      "Reading coverage: tca.asc\n",
      "Reading coverage: mark_outlet.asc\n",
      "Finished.\n",
      "Finished.\n",
      "Extracting the network...\n",
      "0%...\n",
      "10%...\n",
      "20%...\n",
      "30%...\n",
      "40%...\n",
      "50%...\n",
      "60%...\n",
      "70%...\n",
      "80%...\n",
      "90%...\n",
      "100%...\n",
      "Finished.\n",
      "Writing coverage: network_2000.asc\n",
      "Finished.\n"
     ]
    },
    {
     "name": "stderr",
     "output_type": "stream",
     "text": [
      "Dec 21, 2018 10:48:01 AM java.util.prefs.FileSystemPreferences$1 run\n",
      "INFO: Created user preferences directory.\n",
      "\n",
      "*********************************\n",
      "***     END OF SIMULATION     ***\n",
      "*********************************\n",
      "\n"
     ]
    }
   ],
   "source": [
    "!docker run --rm -i -v \"C:/Users/Niccolo/OMS/OMS_WS2019_HortonMachine/:/work\" omslab/oms simulation/10_ExtractNetwork.sim"
   ]
  },
  {
   "cell_type": "code",
   "execution_count": null,
   "metadata": {},
   "outputs": [],
   "source": [
    "!docker run --rm -i -v \"C:/Users/Niccolo/OMS/OMS_WS2019_HortonMachine/:/work\" omslab/oms simulation/11_ExtractBasin.sim"
   ]
  },
  {
   "cell_type": "code",
   "execution_count": null,
   "metadata": {},
   "outputs": [],
   "source": []
  }
 ],
 "metadata": {
  "kernelspec": {
   "display_name": "Python 3",
   "language": "python",
   "name": "python3"
  },
  "language_info": {
   "codemirror_mode": {
    "name": "ipython",
    "version": 3
   },
   "file_extension": ".py",
   "mimetype": "text/x-python",
   "name": "python",
   "nbconvert_exporter": "python",
   "pygments_lexer": "ipython3",
   "version": "3.6.3"
  }
 },
 "nbformat": 4,
 "nbformat_minor": 2
}
